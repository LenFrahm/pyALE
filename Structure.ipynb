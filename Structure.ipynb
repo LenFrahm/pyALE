{
 "cells": [
  {
   "cell_type": "markdown",
   "metadata": {},
   "source": [
    "### Script1_ReadExcelFile.m\n",
    "#### Comments\n",
    "\n",
    "1. Kernel; what is the deal with 31? arbitrary?\n",
    "\n",
    "2. Found while translating to Python: Why does the script divide Coderre et. al. in 3 Experiments"
   ]
  },
  {
   "cell_type": "markdown",
   "metadata": {},
   "source": [
    "### Scripts_AnalysisFromSpreadsheet.m\n",
    "\n",
    "1. delta_t: need to be calculated for each noise simulation? otherwise different amount of repititions."
   ]
  },
  {
   "cell_type": "markdown",
   "metadata": {},
   "source": [
    "#### General\n",
    "1. MA maps as part of experiments dataframe. then can just be loaded in"
   ]
  },
  {
   "cell_type": "code",
   "execution_count": null,
   "metadata": {},
   "outputs": [],
   "source": []
  }
 ],
 "metadata": {
  "kernelspec": {
   "display_name": "Python 3",
   "language": "python",
   "name": "python3"
  },
  "language_info": {
   "codemirror_mode": {
    "name": "ipython",
    "version": 3
   },
   "file_extension": ".py",
   "mimetype": "text/x-python",
   "name": "python",
   "nbconvert_exporter": "python",
   "pygments_lexer": "ipython3",
   "version": "3.9.1"
  }
 },
 "nbformat": 4,
 "nbformat_minor": 4
}
