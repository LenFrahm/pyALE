{
 "cells": [
  {
   "cell_type": "markdown",
   "id": "useful-toddler",
   "metadata": {},
   "source": [
    "# ALE\n",
    "\n",
    "This notebook will guide you through the process of setting up and running an ALE meta-analysis.\n",
    "\n",
    "First we need to set up two excel files that will serve as input for all following steps:\n",
    "\n",
    "#### 1. Experiment information\n",
    "\n",
    "Please use the following format / syntax:\n",
    "\n",
    "- The spreadsheet should have a title row that will not be read\n",
    "- The order of the columns should be as in this example\n",
    "- Tags are optional\n",
    "- At the moment numeric tags are not working!\n",
    "\n",
    "![title](img/exp_info.png)\n",
    "\n",
    "**Important note: In either case the tags are taken straight as they are, so please make sure that spelling (including spaces etc) is consistent throughout the file!**\n",
    "\n",
    "\n",
    "#### 2. Analysis information\n",
    "\n",
    "Please use the following format / syntax:\n",
    "\n",
    "![title](img/meta_info.png)\n",
    "\n",
    "**1st column**: \n",
    "- M denotes main effect\n",
    "- P denotes probabilistic / subsampled / CV'd ALE\n",
    "    - Need to specify the desired N after the P, e.g. P17\n",
    "- C denotes contrast (this line and the following are contrasted against each other). If the respective main effects in the two lines [e.g. 3 and 4] are not yet computed, they will be evaluated\n",
    "- B denotes balanced contrast. This way both analysis will be based on the same N. (Option to specify the desired N after the B, e.g. B17)\n",
    "    - Option to specify the desired N after the B, e.g. B17. If no N is provided N will be equal to the smaller analysis N - 2 or the mean between the smaller analysis N and 17 depending on which is smaller.\n",
    "\n",
    "**2nd column**:\n",
    "Titel of the effect. Ideally avoid spaces and non file-name characters. When (re-) entering a title as part of a contrast, please keep naming/spelling consistent otherwise the “old” main effect is not recognized\n",
    "\n",
    "**3rd column onwards: Specify the analysis by tags.**\n",
    "- +ALL   ->   Include the entire set of experiments in that matfile\n",
    "- +Tag   ->    Include only those experiments that have the respective label\n",
    "- +Tag1  +Tag2   -> Conjunction, includes only experiments that have both labels\n",
    "- +Tag1  +Tag2   ?   ->  Logical ‘OR’, includes experiments that have either label\n",
    "- -Tag   ->   Exclude experiments that have the respective label\n",
    "- $VOI   ->  additionally to the voxel-wise analysis perform VOI analysis for the specified VOI [full path/filename, binary mask]. Multiple VOIs can be entered after each other and are evaluated at the same time. Furthermore an atlas can be added and a ROI analysis will be run for each distinct region specified in the atlas\n",
    "\n",
    "## How to run your analyses\n",
    "\n",
    "1. Create a folder in which you would like to run your analysis (can be the folder you cloned this repository to)\n",
    "2. Copy both excel sheets into the folder\n",
    "3. Enter the path to your folder and the names of your two excel sheets into the first code cell below\n",
    "4. Run your analysis by running all the code cells below. There will be output printed below indicating your process.\n",
    " \n",
    "**Attention: Depending on your knowledge level you can either run the basic routine taking over all default parameter values or run the advanced routine, where you can change the parameter settings**"
   ]
  },
  {
   "cell_type": "code",
   "execution_count": null,
   "id": "neutral-platform",
   "metadata": {
    "tags": []
   },
   "outputs": [],
   "source": [
    "path = \"absolute/path/to/your/folder\"\n",
    "analysis_info_name = \"analysis_info_file.xlsx\"\n",
    "experiment_info_name = \"experiment_info_file.xlsx\""
   ]
  },
  {
   "cell_type": "code",
   "execution_count": null,
   "id": "synthetic-organizer",
   "metadata": {
    "tags": []
   },
   "outputs": [],
   "source": [
    "from nb_pipeline import setup, analysis\n",
    "meta_df, exp_all, tasks = setup(path, analysis_info_name, experiment_info_name)"
   ]
  },
  {
   "cell_type": "code",
   "execution_count": null,
   "id": "smooth-butterfly",
   "metadata": {
    "tags": []
   },
   "outputs": [],
   "source": [
    "\"\"\"Basic routine\"\"\"\n",
    "analysis(path, meta_df, exp_all, tasks)"
   ]
  },
  {
   "cell_type": "code",
   "execution_count": null,
   "id": "e872293b-23a4-420c-9197-3d664f780a53",
   "metadata": {
    "tags": []
   },
   "outputs": [],
   "source": [
    "### \"\"\"Advanced Routine\"\"\"\n",
    "\n",
    "# if TFCE should be included in the main effect analysis. very computationally expensive and does not give big benefits over cFWE.\n",
    "tfce_enabled=False\n",
    "\n",
    "# number of processes spawned when parallelizing. ideally should not exceed the amount of cores of the machine.\n",
    "nprocesses=4\n",
    "\n",
    "# amount of reptitions used for null distribution simulation (noise samples). Convergence starts at around 1000, recommended value = 10000\n",
    "# Used in all types of analysis\n",
    "null_repeats=5000\n",
    "\n",
    "# significance threshold used for cluster forming. recommended value = 0.001\n",
    "# Used in full MainEffect analysis\n",
    "cluster_thresh=0.001\n",
    "\n",
    "# Amount of samples taken from study population, recommended value = 2500\n",
    "# Used in probabilistic and balanced contrast\n",
    "sample_n=2500\n",
    "\n",
    "# Threshold used to compare differences against. recommended value = 0.05\n",
    "# Used in (\"legacy\") contrast\n",
    "diff_thresh=0.05\n",
    "\n",
    "# Whether or not the contrast is only calculated in areas, which are significant in the main_effect analysis\n",
    "# Used in (\"legacy\") contrast\n",
    "masking=False\n",
    "\n",
    "# Amount of sampling repititions used when comparing two subsampled ALEs. recommended value > 500\n",
    "# Used in balanced contrast\n",
    "# Note: As this difference permutation is performed inside of the null distribution simulation it gets repeated X (null_repeats) amount of times\n",
    "# - this can lead to a small increase in diff_repeats leading to a big increase in computation time\n",
    "diff_repeats=500\n",
    "\n",
    "analysis(path = path,\n",
    "         meta_df = meta_df,\n",
    "         exp_all = exp_all,\n",
    "         tasks = tasks,\n",
    "         tfce_enabled = tfce_enabled,\n",
    "         null_repeats = null_repeats,\n",
    "         cluster_thresh = cluster_thresh,\n",
    "         sample_n = sample_n,\n",
    "         diff_thresh = diff_thresh,\n",
    "         masking = masking,\n",
    "         diff_repeats = diff_repeats,\n",
    "         nprocesses = nprocesses)"
   ]
  }
 ],
 "metadata": {
  "kernelspec": {
   "display_name": "pyALE",
   "language": "python",
   "name": "pyale"
  },
  "language_info": {
   "codemirror_mode": {
    "name": "ipython",
    "version": 3
   },
   "file_extension": ".py",
   "mimetype": "text/x-python",
   "name": "python",
   "nbconvert_exporter": "python",
   "pygments_lexer": "ipython3",
   "version": "3.9.1"
  }
 },
 "nbformat": 4,
 "nbformat_minor": 5
}
