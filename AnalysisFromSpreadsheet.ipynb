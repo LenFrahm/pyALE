{
 "cells": [
  {
   "cell_type": "code",
   "execution_count": 1,
   "metadata": {},
   "outputs": [],
   "source": [
    "import os\n",
    "from os.path import isfile\n",
    "import pandas as pd\n",
    "import pickle\n",
    "from compute_ale import compute_ale\n",
    "from compile_studies import compile_studies\n",
    "from contribution import contribution\n",
    "%matplotlib inline\n",
    "\n",
    "cwd = os.getcwd()\n",
    "raw_folder = cwd + '/DataRaw/'\n",
    "pickle_folder = cwd + '/DataPickle/'\n",
    "\n",
    "'''filename = askopenfilename()\n",
    "df = pd.read_excel(filename, engine='openpyxl', header=None)'''\n",
    "\n",
    "df = pd.read_excel(raw_folder + 'Metastocalculate.xlsx', engine='openpyxl', header=None)\n",
    "with open(pickle_folder + 'experiments.pickle', 'rb') as f:\n",
    "    experiments, tasks = pickle.load(f)"
   ]
  },
  {
   "cell_type": "code",
   "execution_count": 2,
   "metadata": {
    "scrolled": true
   },
   "outputs": [
    {
     "name": "stdout",
     "output_type": "stream",
     "text": [
      "Other : 19 experiments; average of 22.26 subjects per experiment\n",
      "Cwclassic : 37 experiments; average of 25.76 subjects per experiment\n",
      "Cwvariant : 21 experiments; average of 26.33 subjects per experiment\n",
      "CwIvsC : 58 experiments; average of 25.97 subjects per experiment\n",
      "CwIvsN : 41 experiments; average of 22.22 subjects per experiment\n",
      "CwIvsNwords : 17 experiments; average of 22.24 subjects per experiment\n",
      "CwIvsNsymbolsletters : 23 experiments; average of 22.30 subjects per experiment\n"
     ]
    }
   ],
   "source": [
    "for row in df.itertuples():\n",
    "    if row[1] == 'M': #Main Effect Analysis\n",
    "        s_index = compile_studies(df, row[0], experiments, tasks)\n",
    "        if len(s_index) >= 12: \n",
    "            print('{} : {} experiments; average of {:.2f} subjects per experiment'.format(row[2], len(s_index), experiments.iloc[s_index].Subjects.mean()))\n",
    "            \n",
    "            \n",
    "        else:\n",
    "            print(\"{} : only {} experiments - not analyzed!\".format(category, len(s_index)))"
   ]
  },
  {
   "cell_type": "code",
   "execution_count": 3,
   "metadata": {},
   "outputs": [
    {
     "name": "stdout",
     "output_type": "stream",
     "text": [
      "Other - loading Foci\n",
      "Other - loading ALE\n",
      "Other - loading null PDF\n",
      "Other - loading p-values\n",
      "Other - loading noise\n",
      "Other - inference and printing\n",
      "Min p-value for FWE:0.043\n",
      "Min p-value for cFWE:0.0\n",
      "Min p-value for TFCE:0.0\n",
      "Other - done!\n",
      "entered except\n"
     ]
    }
   ],
   "source": [
    "s_index = compile_studies(df, 0, experiments, tasks)\n",
    "experiments_s = experiments.loc[s_index].reset_index(drop=True)\n",
    "study = 'Other'\n",
    "\n",
    "\n",
    "compute_ale(s_index, experiments_s, study, noise_repeat=5000)\n",
    "contribution(s_index, experiments_s, tasks, study)"
   ]
  },
  {
   "cell_type": "markdown",
   "metadata": {},
   "source": [
    "#### Contrast"
   ]
  },
  {
   "cell_type": "code",
   "execution_count": 4,
   "metadata": {},
   "outputs": [],
   "source": [
    "def par_perm(s1,s2,vp,a,benchmark):\n",
    "    sr = np.arange(len(s1)+len(s2))\n",
    "    np.random.shuffle(sr)\n",
    "    draw = (1-np.prod(vp[sr[:len(s1)],:], axis=0)) - (1-np.prod(vp[sr[len(s1):],:], axis=0))\n",
    "    a[draw > benchmark] += draw[draw > benchmark]\n",
    "    return a"
   ]
  },
  {
   "cell_type": "code",
   "execution_count": 5,
   "metadata": {},
   "outputs": [],
   "source": [
    "from os import getcwd\n",
    "from os.path import isfile\n",
    "import nibabel as nb\n",
    "import pandas as pd\n",
    "import numpy as np\n",
    "from joblib import Parallel, delayed\n",
    "from scipy.stats import norm"
   ]
  },
  {
   "cell_type": "code",
   "execution_count": 6,
   "metadata": {},
   "outputs": [],
   "source": [
    "s1 = compile_studies(df, 3, experiments, tasks)\n",
    "experiments1 = experiments.loc[s1].reset_index(drop=True)\n",
    "study1 = df.loc[3,1]\n",
    "s1 = list(range(len(s1)))\n",
    "s2 = compile_studies(df, 4, experiments, tasks)\n",
    "experiments2 = experiments.loc[s2].reset_index(drop=True)\n",
    "study2 = df.loc[4,1]\n",
    "s2 = list(range(len(s2)))"
   ]
  },
  {
   "cell_type": "code",
   "execution_count": 7,
   "metadata": {
    "scrolled": true
   },
   "outputs": [
    {
     "name": "stdout",
     "output_type": "stream",
     "text": [
      "Cwclassic - loading Foci\n",
      "Cwclassic - loading ALE\n",
      "Cwclassic - loading null PDF\n",
      "Cwclassic - loading p-values\n",
      "Cwclassic - loading noise\n",
      "Cwclassic - inference and printing\n",
      "Min p-value for FWE:0.0\n",
      "Min p-value for cFWE:0.0\n",
      "Min p-value for TFCE:0.0\n",
      "Cwclassic - done!\n"
     ]
    }
   ],
   "source": [
    "if len(s1) >= 12 and len(s2) >= 12:\n",
    "    if not isfile(\"{}/ALE/Results/{}_cFWE05.nii\".format(cwd, study1)):\n",
    "        compute_ale(s1, experiments1, study1, noise_repeat=5000)\n",
    "    if not isfile(\"{}/ALE/Results/{}_cFWE05.nii\".format(cwd, study2)):\n",
    "        compute_ale(s2, experiments2, study2, noise_repeat=5000)"
   ]
  },
  {
   "cell_type": "code",
   "execution_count": 8,
   "metadata": {},
   "outputs": [],
   "source": [
    "u = 0.05"
   ]
  },
  {
   "cell_type": "code",
   "execution_count": 10,
   "metadata": {
    "scrolled": false
   },
   "outputs": [
    {
     "name": "stdout",
     "output_type": "stream",
     "text": [
      "Positive Contrast.\n",
      "Randomising.\n"
     ]
    },
    {
     "name": "stderr",
     "output_type": "stream",
     "text": [
      "[Parallel(n_jobs=-1)]: Using backend ThreadingBackend with 8 concurrent workers.\n",
      "[Parallel(n_jobs=-1)]: Done  34 tasks      | elapsed:    0.0s\n",
      "[Parallel(n_jobs=-1)]: Done 184 tasks      | elapsed:    0.0s\n",
      "[Parallel(n_jobs=-1)]: Done 434 tasks      | elapsed:    0.1s\n",
      "[Parallel(n_jobs=-1)]: Done 784 tasks      | elapsed:    0.2s\n",
      "[Parallel(n_jobs=-1)]: Done 1234 tasks      | elapsed:    0.4s\n",
      "[Parallel(n_jobs=-1)]: Done 1784 tasks      | elapsed:    0.6s\n",
      "[Parallel(n_jobs=-1)]: Done 2434 tasks      | elapsed:    0.7s\n",
      "[Parallel(n_jobs=-1)]: Done 3184 tasks      | elapsed:    1.0s\n",
      "[Parallel(n_jobs=-1)]: Done 4034 tasks      | elapsed:    1.2s\n",
      "[Parallel(n_jobs=-1)]: Done 4984 tasks      | elapsed:    1.4s\n",
      "[Parallel(n_jobs=-1)]: Done 6034 tasks      | elapsed:    1.7s\n",
      "[Parallel(n_jobs=-1)]: Done 7184 tasks      | elapsed:    2.0s\n",
      "[Parallel(n_jobs=-1)]: Done 8434 tasks      | elapsed:    2.3s\n",
      "[Parallel(n_jobs=-1)]: Done 9784 tasks      | elapsed:    2.6s\n",
      "[Parallel(n_jobs=-1)]: Done 11234 tasks      | elapsed:    2.9s\n",
      "[Parallel(n_jobs=-1)]: Done 12784 tasks      | elapsed:    3.3s\n",
      "[Parallel(n_jobs=-1)]: Done 14434 tasks      | elapsed:    3.7s\n",
      "[Parallel(n_jobs=-1)]: Done 16184 tasks      | elapsed:    4.1s\n",
      "[Parallel(n_jobs=-1)]: Done 18034 tasks      | elapsed:    4.5s\n",
      "[Parallel(n_jobs=-1)]: Done 19984 tasks      | elapsed:    5.0s\n",
      "[Parallel(n_jobs=-1)]: Done 22034 tasks      | elapsed:    5.5s\n",
      "[Parallel(n_jobs=-1)]: Done 24184 tasks      | elapsed:    6.0s\n",
      "[Parallel(n_jobs=-1)]: Done 25000 out of 25000 | elapsed:    6.2s finished\n"
     ]
    }
   ],
   "source": [
    "cwd = getcwd()\n",
    "mask_folder = cwd + \"/MaskenEtc/\"\n",
    "\n",
    "try:\n",
    "    os.makedirs(cwd + \"/ALE/Contrasts/Images\")\n",
    "    os.makedirs(cwd + \"/ALE/Conjunctions/Images\")\n",
    "except:\n",
    "    pass\n",
    "\n",
    "template = nb.load(mask_folder + \"Grey10.nii\")\n",
    "template_data = template.get_fdata()\n",
    "template_shape = template_data.shape\n",
    "pad_tmp_shape = [value+30 for value in template_shape]\n",
    "\n",
    "repeats=25000\n",
    "corr = [\"cFWE\", \"TFCE\"]\n",
    "\n",
    "if not isfile(\"{}/ALE/Contrasts/{}--{}_P95.nii\".format(cwd, study1, study2)):\n",
    "    print(\"Positive Contrast.\")\n",
    "    fx = nb.load(\"{}/ALE/Results/{}_{}05.nii\".format(cwd,study1,corr[0])).get_fdata()\n",
    "    ind = np.where(fx > 0)\n",
    "    if ind[0].size > 0:\n",
    "        z1 = fx[fx > 0]\n",
    "        vp = np.zeros((len(s1)+len(s2), z1.size))\n",
    "        a = np.zeros(ind[0].shape)\n",
    "        \n",
    "        for i in s1:\n",
    "            data = np.zeros(pad_tmp_shape)\n",
    "            for ii in range(experiments1.at[i, 'Peaks']):\n",
    "                coords = experiments1.XYZ[i].T[:,:3][ii]\n",
    "                x_range = (coords[0],coords[0]+31)\n",
    "                y_range = (coords[1],coords[1]+31)\n",
    "                z_range = (coords[2],coords[2]+31)\n",
    "                data[x_range[0]:x_range[1], y_range[0]:y_range[1], z_range[0]:z_range[1]] = \\\n",
    "                np.maximum(data[x_range[0]:x_range[1], y_range[0]:y_range[1], z_range[0]:z_range[1]],\n",
    "                           experiments1.at[i, 'Kernel'])\n",
    "            data = data[15:data.shape[0]-15,15:data.shape[1]-15, 15:data.shape[2]-15]\n",
    "            vp[i,:] = data[tuple(ind)]\n",
    "        \n",
    "        for i in s2:\n",
    "            data = np.zeros(pad_tmp_shape)\n",
    "            for ii in range(experiments2.at[i, 'Peaks']):\n",
    "                coords = experiments2.XYZ[i].T[:,:3][ii]\n",
    "                x_range = (coords[0],coords[0]+31)\n",
    "                y_range = (coords[1],coords[1]+31)\n",
    "                z_range = (coords[2],coords[2]+31)\n",
    "                data[x_range[0]:x_range[1], y_range[0]:y_range[1], z_range[0]:z_range[1]] = \\\n",
    "                np.maximum(data[x_range[0]:x_range[1], y_range[0]:y_range[1], z_range[0]:z_range[1]],\n",
    "                           experiments2.at[i, 'Kernel'])\n",
    "            data = data[15:data.shape[0]-15,15:data.shape[1]-15, 15:data.shape[2]-15]\n",
    "            vp[i+len(s1),:] = data[tuple(ind)]\n",
    "        \n",
    "        vp = 1-vp\n",
    "        benchmark = (1-np.prod(vp[:len(s1),:], axis=0)) - (1-np.prod(vp[len(s1):,:], axis=0))\n",
    "        \n",
    "        print(\"Randomising.\")\n",
    "        a = Parallel(n_jobs=-1,backend=\"threading\", verbose=1)(delayed(par_perm)(s1, s2, vp, a, benchmark) for i in range(repeats))\n",
    "        \n",
    "    else:\n",
    "        print(\"{}: No significant indices!\".format(study1))\n",
    "            \n",
    "\n",
    "\n"
   ]
  },
  {
   "cell_type": "code",
   "execution_count": 23,
   "metadata": {},
   "outputs": [
    {
     "name": "stderr",
     "output_type": "stream",
     "text": [
      "/usr/local/lib/python3.9/site-packages/numpy/core/fromnumeric.py:87: RuntimeWarning: overflow encountered in reduce\n",
      "  return ufunc.reduce(obj, axis, dtype, out, **passkwargs)\n"
     ]
    }
   ],
   "source": [
    "a = np.sum(a, axis=0)"
   ]
  },
  {
   "cell_type": "code",
   "execution_count": 13,
   "metadata": {
    "scrolled": true
   },
   "outputs": [],
   "source": [
    "a = norm.ppf(1-(a/repeats))"
   ]
  },
  {
   "cell_type": "code",
   "execution_count": 15,
   "metadata": {},
   "outputs": [],
   "source": [
    "a = np.nan_to_num(a)"
   ]
  },
  {
   "cell_type": "code",
   "execution_count": 19,
   "metadata": {},
   "outputs": [],
   "source": [
    "tfce1 = nb.load(cwd + \"/ALE/Results/Other_TFCE05.nii\").get_fdata()"
   ]
  },
  {
   "cell_type": "code",
   "execution_count": 22,
   "metadata": {},
   "outputs": [
    {
     "data": {
      "text/plain": [
       "array([39252.15963478, 40319.35824362, 41230.07331941, 40808.05875177,\n",
       "       40497.06338385, 41230.07331941, 40934.99919305, 39711.92408612,\n",
       "       39252.15963478, 41197.44013787, 40108.97230703, 40108.97230703,\n",
       "       38945.00099189, 40126.43212874, 40934.99919305, 40497.06338385,\n",
       "       40656.7296134 , 41230.07331941, 40808.05875177, 39493.2979982 ,\n",
       "       39252.15963478, 40126.43212874, 39493.2979982 , 38945.00099189,\n",
       "       38190.62966111, 40108.97230703, 41714.62946921, 40662.68773335,\n",
       "       40108.97230703, 44279.486089  , 43890.22340534, 41714.62946921,\n",
       "       38190.62966111, 38945.00099189, 40662.68773335, 41714.62946921,\n",
       "       41940.5398059 , 41854.24736713, 43475.26983895, 46899.95234882,\n",
       "       46685.10547034, 44638.80058799, 41197.44013787, 38945.00099189,\n",
       "       38945.00099189, 39531.56770909, 39531.56770909, 38190.62966111,\n",
       "       42612.81848709, 46445.09319548, 46170.65761705, 43890.22340534,\n",
       "       38945.00099189, 42168.84739905, 42168.84739905, 39252.15963478,\n",
       "       39920.56909667, 40319.35824362, 39252.15963478, 38945.00099189,\n",
       "       39252.15963478, 39711.92408612, 38945.00099189, 41197.44013787,\n",
       "       41197.44013787, 40108.97230703, 38945.00099189, 38945.00099189,\n",
       "       40108.97230703, 40662.68773335, 41854.24736713, 41714.62946921,\n",
       "       42168.84739905, 45605.32215184, 45890.45515673, 44972.1273114 ,\n",
       "       43044.64435223, 41714.62946921, 41854.24736713, 41854.24736713,\n",
       "       41986.39188971, 41940.5398059 , 38945.00099189, 44279.486089  ,\n",
       "       47320.9559443 , 47492.26461881, 46899.95234882, 45294.84634913,\n",
       "       42168.84739905, 41197.44013787, 40108.97230703, 39531.56770909,\n",
       "       38945.00099189, 43890.22340534, 47193.3137321 , 47423.27047883,\n",
       "       46685.10547034, 44279.486089  , 39531.56770909, 38945.00099189,\n",
       "       44638.80058799, 44972.1273114 , 42612.81848709, 38190.62966111,\n",
       "       39493.2979982 , 38945.00099189, 39252.15963478, 39493.2979982 ,\n",
       "       38945.00099189, 38190.62966111, 38945.00099189, 38945.00099189,\n",
       "       38945.00099189, 40662.68773335, 41714.62946921, 41197.44013787,\n",
       "       40108.97230703, 38945.00099189, 43890.22340534, 44638.80058799,\n",
       "       44279.486089  , 43475.26983895, 40108.97230703, 40662.68773335,\n",
       "       45605.32215184, 46899.95234882, 46445.09319548, 45294.84634913,\n",
       "       41714.62946921, 39531.56770909, 45605.32215184, 46899.95234882,\n",
       "       46445.09319548, 44279.486089  , 39531.56770909, 42612.81848709,\n",
       "       44638.80058799, 43475.26983895, 38945.00099189, 39252.15963478,\n",
       "       38945.00099189, 39252.15963478, 39330.91109819, 39252.15963478,\n",
       "       38945.00099189, 39252.15963478, 38945.00099189, 38190.62966111,\n",
       "       39531.56770909, 40662.68773335, 38945.00099189, 38945.00099189,\n",
       "       42612.81848709, 43044.64435223, 41197.44013787, 40108.97230703,\n",
       "       43475.26983895, 43890.22340534, 40662.68773335, 41714.62946921,\n",
       "       40662.68773335, 41783.86374413, 39211.38558225, 43515.56445065,\n",
       "       49529.22500067, 46090.01758941, 42651.53938837, 49529.22500067,\n",
       "       47817.94325927, 39211.38558225, 43515.56445065, 43515.56445065,\n",
       "       37523.95696878, 39211.38558225, 37523.95696878, 48671.61919573,\n",
       "       53751.09035643, 49529.22500067, 37523.95696878, 41783.86374413,\n",
       "       56158.10446832, 61160.05865369, 56921.54314874, 43515.56445065,\n",
       "       40056.35346159, 54565.06199947, 60507.20301169, 56921.54314874,\n",
       "       45231.54777313, 45231.54777313, 52918.10626863, 51226.36515267,\n",
       "       42651.53938837, 40918.98267692, 41783.86374413, 39211.38558225,\n",
       "       44371.10787226, 41783.86374413, 42651.53938837, 54565.06199947,\n",
       "       59082.78171914, 54565.06199947, 43515.56445065, 49529.22500067,\n",
       "       61160.05865369, 64230.94904689, 61160.05865369, 49529.22500067,\n",
       "       47817.94325927, 59796.92011977, 63389.72950486, 59796.92011977,\n",
       "       48671.61919573, 37523.95696878, 49529.22500067, 55366.50354176,\n",
       "       53751.09035643, 43515.56445065, 41783.86374413, 42651.53938837,\n",
       "       40918.98267692, 46090.01758941, 45231.54777313, 39211.38558225,\n",
       "       46090.01758941, 56158.10446832, 60507.20301169, 58359.51168779,\n",
       "       49529.22500067, 37523.95696878, 39211.38558225, 53751.09035643,\n",
       "       62344.65239369, 64625.18988625, 62902.0465307 , 54565.06199947,\n",
       "       40918.98267692, 39211.38558225, 52069.08856458, 60507.20301169,\n",
       "       62902.0465307 , 60507.20301169, 52918.10626863, 40056.35346159,\n",
       "       41783.86374413, 49529.22500067, 53751.09035643, 52069.08856458,\n",
       "       45231.54777313, 39211.38558225, 39211.38558225, 41783.86374413,\n",
       "       47817.94325927, 48671.61919573, 43515.56445065, 47817.94325927,\n",
       "       56921.54314874, 61763.01097072, 61763.01097072, 56921.54314874,\n",
       "       46090.01758941, 43515.56445065, 55366.50354176, 62902.0465307 ,\n",
       "       64625.18988625, 64625.18988625, 60507.20301169, 51226.36515267,\n",
       "       44371.10787226, 54565.06199947, 60507.20301169, 62344.65239369,\n",
       "       61763.01097072, 56921.54314874, 47817.94325927, 44371.10787226,\n",
       "       49529.22500067, 51226.36515267, 51226.36515267, 47817.94325927,\n",
       "       40918.98267692, 38359.87629475, 37523.95696878, 41783.86374413,\n",
       "       48671.61919573, 51226.36515267, 46947.57712656, 38359.87629475,\n",
       "       46947.57712656, 56921.54314874, 62344.65239369, 63389.72950486,\n",
       "       60507.20301169, 51226.36515267, 37523.95696878, 45231.54777313,\n",
       "       56158.10446832, 62902.0465307 , 65216.05553343, 65462.56797508,\n",
       "       63818.41992872, 56158.10446832, 42651.53938837, 46090.01758941,\n",
       "       55366.50354176, 61160.05865369, 63389.72950486, 63389.72950486,\n",
       "       60507.20301169, 52918.10626863, 41783.86374413, 39211.38558225,\n",
       "       46090.01758941, 50368.0882168 , 52918.10626863, 53751.09035643,\n",
       "       51226.36515267, 45231.54777313, 37523.95696878, 39211.38558225,\n",
       "       40056.35346159, 37523.95696878, 40056.35346159, 47817.94325927,\n",
       "       49529.22500067, 45231.54777313, 45231.54777313, 56921.54314874,\n",
       "       62344.65239369, 62902.0465307 , 59082.78171914, 48671.61919573,\n",
       "       42651.53938837, 55366.50354176, 63818.41992872, 65851.73566717,\n",
       "       65851.73566717, 63389.72950486, 54565.06199947, 42651.53938837,\n",
       "       45231.54777313, 56158.10446832, 62902.0465307 , 64935.30245788,\n",
       "       64625.18988625, 61160.05865369, 52918.10626863, 42651.53938837,\n",
       "       38359.87629475, 47817.94325927, 53751.09035643, 56921.54314874,\n",
       "       56921.54314874, 53751.09035643, 46947.57712656, 38359.87629475,\n",
       "       37523.95696878, 40918.98267692, 42651.53938837, 42651.53938837,\n",
       "       39211.38558225, 37523.95696878, 43515.56445065, 43515.56445065,\n",
       "       37523.95696878, 43515.56445065, 55366.50354176, 61160.05865369,\n",
       "       60507.20301169, 52918.10626863, 40918.98267692, 39211.38558225,\n",
       "       54565.06199947, 64230.94904689, 65851.73566717, 65462.56797508,\n",
       "       59796.92011977, 47817.94325927, 42651.53938837, 56921.54314874,\n",
       "       64625.18988625, 65851.73566717, 64935.30245788, 58359.51168779,\n",
       "       47817.94325927, 38359.87629475, 37523.95696878, 49529.22500067,\n",
       "       57634.82923641, 60507.20301169, 58359.51168779, 51226.36515267,\n",
       "       43515.56445065, 40918.98267692, 44371.10787226, 44371.10787226,\n",
       "       40918.98267692, 37523.95696878, 40056.35346159, 52069.08856458,\n",
       "       56921.54314874, 53751.09035643, 42651.53938837, 52918.10626863,\n",
       "       62902.0465307 , 65216.05553343, 62902.0465307 , 52069.08856458,\n",
       "       37523.95696878, 40918.98267692, 56158.10446832, 64625.18988625,\n",
       "       65668.19050806, 63389.72950486, 52918.10626863, 39211.38558225,\n",
       "       37523.95696878, 51226.36515267, 59082.78171914, 61160.05865369,\n",
       "       56158.10446832, 46090.01758941, 38359.87629475, 44371.10787226,\n",
       "       45231.54777313, 41783.86374413, 43515.56445065, 46947.57712656,\n",
       "       41783.86374413, 47817.94325927, 56921.54314874, 59082.78171914,\n",
       "       52918.10626863, 39211.38558225, 39211.38558225, 53751.09035643,\n",
       "       61160.05865369, 61763.01097072, 55366.50354176, 40918.98267692,\n",
       "       38359.87629475, 49529.22500067, 56158.10446832, 56158.10446832,\n",
       "       47817.94325927, 39211.38558225, 42651.53938837, 40918.98267692,\n",
       "       38286.47203669, 37977.67607683, 40918.98267692, 46090.01758941,\n",
       "       44371.10787226, 37523.95696878, 46090.01758941, 51226.36515267,\n",
       "       48671.61919573, 39211.38558225, 44371.10787226, 47817.94325927,\n",
       "       43515.56445065, 37523.95696878, 37977.67607683, 37637.51705513,\n",
       "       39790.92617679, 39100.80118871, 39350.01528284, 38286.47203669,\n",
       "       37523.95696878, 38567.39630553, 37977.67607683, 38286.47203669,\n",
       "       40442.70688323, 39581.06203427, 37977.67607683, 40323.43232716,\n",
       "       39100.80118871, 37637.51705513, 38286.47203669, 40442.70688323,\n",
       "       39581.06203427, 38835.9077018 , 40636.42684264, 40165.08327948,\n",
       "       38567.39630553, 40165.08327948, 39350.01528284, 37637.51705513,\n",
       "       40323.43232716, 39790.92617679, 37977.67607683])"
      ]
     },
     "execution_count": 22,
     "metadata": {},
     "output_type": "execute_result"
    }
   ],
   "source": [
    "tfce1[tfce1 > 0]"
   ]
  },
  {
   "cell_type": "code",
   "execution_count": 18,
   "metadata": {
    "scrolled": false
   },
   "outputs": [
    {
     "data": {
      "text/plain": [
       "(171,)"
      ]
     },
     "execution_count": 18,
     "metadata": {},
     "output_type": "execute_result"
    }
   ],
   "source": [
    "a[a > 0].shape"
   ]
  }
 ],
 "metadata": {
  "kernelspec": {
   "display_name": "Python 3",
   "language": "python",
   "name": "python3"
  },
  "language_info": {
   "codemirror_mode": {
    "name": "ipython",
    "version": 3
   },
   "file_extension": ".py",
   "mimetype": "text/x-python",
   "name": "python",
   "nbconvert_exporter": "python",
   "pygments_lexer": "ipython3",
   "version": "3.9.1"
  }
 },
 "nbformat": 4,
 "nbformat_minor": 4
}
