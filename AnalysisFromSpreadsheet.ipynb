{
 "cells": [
  {
   "cell_type": "code",
   "execution_count": 5,
   "metadata": {},
   "outputs": [],
   "source": [
    "import os\n",
    "from os.path import isfile\n",
    "import pandas as pd\n",
    "import pickle\n",
    "from compute_ale import compute_ale\n",
    "from compile_studies import compile_studies\n",
    "from contribution import contribution\n",
    "from compute_contrast import compute_contrast\n",
    "%matplotlib inline\n",
    "\n",
    "cwd = os.getcwd()\n",
    "raw_folder = cwd + '/DataRaw/'\n",
    "pickle_folder = cwd + '/DataPickle/'\n",
    "\n",
    "'''filename = askopenfilename()\n",
    "df = pd.read_excel(filename, engine='openpyxl', header=None)'''\n",
    "\n",
    "df = pd.read_excel(raw_folder + 'Metastocalculate.xlsx', engine='openpyxl', header=None)\n",
    "with open(pickle_folder + 'experiments.pickle', 'rb') as f:\n",
    "    experiments, tasks = pickle.load(f)"
   ]
  },
  {
   "cell_type": "code",
   "execution_count": 8,
   "metadata": {},
   "outputs": [
    {
     "name": "stdout",
     "output_type": "stream",
     "text": [
      "[43 74 56]\n",
      "[59 65 64]\n",
      "[20 40 67]\n",
      "[65 77 47]\n",
      "[22 79 46]\n",
      "[14 39 51]\n",
      "[76 40 46]\n",
      "[24 90 36]\n",
      "[35 48 39]\n",
      "[75 37 40]\n",
      "[53 56 37]\n",
      "[18 77 34]\n",
      "[69 77 30]\n"
     ]
    }
   ],
   "source": [
    "peaks = experiments.at[1, \"XYZ\"].T[:,:3]\n",
    "for peak in peaks:\n",
    "    print(peak)"
   ]
  },
  {
   "cell_type": "code",
   "execution_count": 9,
   "metadata": {
    "scrolled": false
   },
   "outputs": [
    {
     "name": "stdout",
     "output_type": "stream",
     "text": [
      "Other : 19 experiments; average of 22.26 subjects per experiment\n",
      "Cwclassic : 37 experiments; average of 25.76 subjects per experiment\n",
      "Cwvariant : 21 experiments; average of 26.33 subjects per experiment\n",
      "Loading contrast.\n",
      "Loading conjunction.\n",
      "Loading contrast.\n",
      "Loading conjunction.\n"
     ]
    }
   ],
   "source": [
    "for row in df.itertuples():\n",
    "    if row[1] == 'M': #Main Effect Analysis\n",
    "        s_index = compile_studies(df, row[0], experiments, tasks)\n",
    "        if len(s_index) >= 12: \n",
    "            print('{} : {} experiments; average of {:.2f} subjects per experiment'.format(row[2], len(s_index), experiments.iloc[s_index].Subjects.mean()))\n",
    "            \n",
    "            \n",
    "        else:\n",
    "            print(\"{} : only {} experiments - not analyzed!\".format(category, len(s_index)))\n",
    "            \n",
    "    if row[1] == 'C': # Contrast Analysis\n",
    "        study1 = df.loc[row[0],1]\n",
    "        s1 = compile_studies(df, row[0], experiments, tasks)\n",
    "        experiments1 = experiments.loc[s1].reset_index(drop=True)\n",
    "\n",
    "        study2 = df.loc[row[0]+1,1]\n",
    "        s2 = compile_studies(df, row[0]+1, experiments, tasks)\n",
    "        experiments2 = experiments.loc[s2].reset_index(drop=True)\n",
    "        \n",
    "        if len(s1) >= 12 and len(s2) >= 12:\n",
    "            if not isfile(\"{}/ALE/Results/{}_cFWE05.nii\".format(cwd, study1)):\n",
    "                compute_ale(s1, experiments1, study1, noise_repeat=5000)\n",
    "                contribution(s1, experiments1, tasks, study1)\n",
    "            if not isfile(\"{}/ALE/Results/{}_cFWE05.nii\".format(cwd, study2)):\n",
    "                compute_ale(s2, experiments2, study2, noise_repeat=5000)\n",
    "                contribution(s2, experiments2, tasks, study2)\n",
    "                \n",
    "            for i in reversed(s1):\n",
    "                if i in s2:\n",
    "                    s1.remove(i)\n",
    "                    s2.remove(i)\n",
    "                    \n",
    "            experiments1 = experiments.loc[s1].reset_index(drop=True)\n",
    "            experiments2 = experiments.loc[s2].reset_index(drop=True)\n",
    "            compute_contrast(experiments1, study1, experiments2, study2)\n",
    "                \n",
    "            "
   ]
  },
  {
   "cell_type": "markdown",
   "metadata": {},
   "source": [
    "#### Contrast"
   ]
  }
 ],
 "metadata": {
  "kernelspec": {
   "display_name": "Python 3",
   "language": "python",
   "name": "python3"
  },
  "language_info": {
   "codemirror_mode": {
    "name": "ipython",
    "version": 3
   },
   "file_extension": ".py",
   "mimetype": "text/x-python",
   "name": "python",
   "nbconvert_exporter": "python",
   "pygments_lexer": "ipython3",
   "version": "3.9.1"
  }
 },
 "nbformat": 4,
 "nbformat_minor": 4
}
