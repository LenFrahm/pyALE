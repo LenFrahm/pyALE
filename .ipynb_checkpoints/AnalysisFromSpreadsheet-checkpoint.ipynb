{
 "cells": [
  {
   "cell_type": "code",
   "execution_count": 1,
   "metadata": {},
   "outputs": [],
   "source": [
    "import os\n",
    "from os.path import isfile\n",
    "import pandas as pd\n",
    "import numpy as np\n",
    "import nibabel as nb\n",
    "import math as m\n",
    "import pickle\n",
    "from tkinter import Tk\n",
    "from tkinter.filedialog import askopenfilename\n",
    "from compile_studies import compile_studies\n",
    "import h5py\n",
    "\n",
    "\n",
    "cwd = os.getcwd()\n",
    "raw_folder = cwd + '/DataRaw/'\n",
    "pickle_folder = cwd + '/DataPickle/'\n",
    "mask_folder = cwd + '/MaskenEtc/'\n",
    "\n",
    "'''filename = askopenfilename()\n",
    "df = pd.read_excel(filename, engine='openpyxl', header=None)'''\n",
    "\n",
    "df = pd.read_excel(raw_folder + 'Metastocalculate.xlsx', engine='openpyxl', header=None)\n",
    "with open(pickle_folder + 'data.pickle', 'rb') as f:\n",
    "    experiments, tasks = pickle.load(f)"
   ]
  },
  {
   "cell_type": "code",
   "execution_count": 2,
   "metadata": {
    "scrolled": true
   },
   "outputs": [
    {
     "name": "stdout",
     "output_type": "stream",
     "text": [
      "Other : 19experiments; average of 22.263157894736842 subjects per experiment\n",
      "Cwclassic : 37experiments; average of 25.756756756756758 subjects per experiment\n",
      "Cwvariant : 21experiments; average of 26.333333333333332 subjects per experiment\n",
      "CwIvsC : 58experiments; average of 25.96551724137931 subjects per experiment\n",
      "CwIvsN : 41experiments; average of 22.21951219512195 subjects per experiment\n",
      "CwIvsNwords : 17experiments; average of 22.235294117647058 subjects per experiment\n",
      "CwIvsNsymbolsletters : 23experiments; average of 22.304347826086957 subjects per experiment\n"
     ]
    }
   ],
   "source": [
    "for index, row in df.iterrows():\n",
    "    if row[0] == 'M': #Main Effect Analysis\n",
    "        s0 = compile_studies(df, index, experiments, tasks)\n",
    "        if len(s0) >= 12:\n",
    "            category = df.iloc[index, 1]\n",
    "            mean_subjects = experiments.iloc[s0].Subjects.mean()\n",
    "            print(category + ' : ' + str(len(s0)) + 'experiments; average of {mean} subjects per experiment'.format(mean=mean_subjects))"
   ]
  },
  {
   "cell_type": "markdown",
   "metadata": {},
   "source": [
    "### ComputeALEtfce"
   ]
  },
  {
   "cell_type": "code",
   "execution_count": 64,
   "metadata": {},
   "outputs": [],
   "source": [
    "s0 = compile_studies(df, 0, experiments, tasks)\n",
    "experiments = experiments.loc[s0]\n",
    "\n",
    "template = nb.load(mask_folder + \"Grey10.nii\")\n",
    "template_data = template.get_fdata()\n",
    "template_shape = template_data.shape"
   ]
  },
  {
   "cell_type": "code",
   "execution_count": 4,
   "metadata": {},
   "outputs": [],
   "source": [
    "prior = np.zeros(template_shape, dtype=bool)\n",
    "prior[template_data > 0.1] = 1\n",
    "uc = 0.001\n",
    "c = str(uc)[2:]\n",
    "\n",
    "num_exp = len(s0)\n",
    "mb = 1\n",
    "for i in s0:\n",
    "    mb = mb*(1-np.max(experiments.at[i, 'Kernel']))\n",
    "\n",
    "bins = np.arange(0,1-mb+0.001,0.0001)\n",
    "step = 1/0.0001"
   ]
  },
  {
   "cell_type": "code",
   "execution_count": 5,
   "metadata": {},
   "outputs": [
    {
     "ename": "FileExistsError",
     "evalue": "[Errno 17] File exists: 'ALE'",
     "output_type": "error",
     "traceback": [
      "\u001b[0;31m---------------------------------------------------------------------------\u001b[0m",
      "\u001b[0;31mFileExistsError\u001b[0m                           Traceback (most recent call last)",
      "\u001b[0;32m<ipython-input-5-fd4080513fa2>\u001b[0m in \u001b[0;36m<module>\u001b[0;34m\u001b[0m\n\u001b[1;32m      2\u001b[0m \u001b[0mfolders_req_imgs\u001b[0m \u001b[0;34m=\u001b[0m \u001b[0;34m[\u001b[0m\u001b[0;34m'Foci'\u001b[0m\u001b[0;34m,\u001b[0m \u001b[0;34m'ALE'\u001b[0m\u001b[0;34m,\u001b[0m \u001b[0;34m'TFCE'\u001b[0m\u001b[0;34m]\u001b[0m\u001b[0;34m\u001b[0m\u001b[0;34m\u001b[0m\u001b[0m\n\u001b[1;32m      3\u001b[0m \u001b[0;34m\u001b[0m\u001b[0m\n\u001b[0;32m----> 4\u001b[0;31m \u001b[0mos\u001b[0m\u001b[0;34m.\u001b[0m\u001b[0mmkdir\u001b[0m\u001b[0;34m(\u001b[0m\u001b[0;34m'ALE'\u001b[0m\u001b[0;34m)\u001b[0m\u001b[0;34m\u001b[0m\u001b[0;34m\u001b[0m\u001b[0m\n\u001b[0m\u001b[1;32m      5\u001b[0m \u001b[0;32mfor\u001b[0m \u001b[0mfolder\u001b[0m \u001b[0;32min\u001b[0m \u001b[0mfolders_req\u001b[0m\u001b[0;34m:\u001b[0m\u001b[0;34m\u001b[0m\u001b[0;34m\u001b[0m\u001b[0m\n\u001b[1;32m      6\u001b[0m     \u001b[0;32mif\u001b[0m \u001b[0mfolder\u001b[0m \u001b[0;34m==\u001b[0m \u001b[0;34m'Images'\u001b[0m\u001b[0;34m:\u001b[0m\u001b[0;34m\u001b[0m\u001b[0;34m\u001b[0m\u001b[0m\n",
      "\u001b[0;31mFileExistsError\u001b[0m: [Errno 17] File exists: 'ALE'"
     ]
    }
   ],
   "source": [
    "folders_req = ['Volumes', 'NullDistributions', 'VolumesZ', 'VolumesTFCE', 'Results', 'Images', 'Foci']\n",
    "folders_req_imgs = ['Foci', 'ALE', 'TFCE']\n",
    "\n",
    "os.mkdir('ALE')\n",
    "for folder in folders_req:\n",
    "    if folder == 'Images':\n",
    "        for sub_folder in folders_req_imgs:\n",
    "            os.mkdir('ALE/Images/' + sub_folder)"
   ]
  },
  {
   "cell_type": "code",
   "execution_count": 6,
   "metadata": {},
   "outputs": [],
   "source": [
    "study = 'Other'"
   ]
  },
  {
   "cell_type": "code",
   "execution_count": 7,
   "metadata": {},
   "outputs": [
    {
     "name": "stdout",
     "output_type": "stream",
     "text": [
      "Other - illustrate Foci\n"
     ]
    }
   ],
   "source": [
    "if not isfile(cwd + 'ALE/Foci/' + study + '.nii'):\n",
    "    print('{} - illustrate Foci'.format(study))\n",
    "    \n",
    "    arr = np.zeros(template_shape)\n",
    "    nested_list = [experiments.XYZ[i].T[:,:3].tolist() for i in s0]\n",
    "    flat_list = np.array([item for sublist in nested_list for item in sublist])\n",
    "    arr[tuple(flat_list.T)] += 1\n",
    "    arr[~prior] = np.nan \n",
    "    ni_img = nb.Nifti1Image(arr, template.affine)\n",
    "    nb.save(ni_img, cwd + '/ALE/Foci/' + study + '.nii')\n",
    "    \n"
   ]
  },
  {
   "cell_type": "markdown",
   "metadata": {},
   "source": [
    "### something is going wrong with the conversion; current ideas:\n",
    "1. rounding error\n",
    "2. inaccuracy in the dot product"
   ]
  },
  {
   "cell_type": "code",
   "execution_count": 81,
   "metadata": {},
   "outputs": [
    {
     "data": {
      "text/plain": [
       "array([[ 49,  48,  55,  56,  70,  15,  71,  20,  45,  46,  48],\n",
       "       [ 74,  67,  64, 108,  72,  80,  45,  45,  76,  82,  84],\n",
       "       [ 71,  70,  60,  52,  40,  42,  56,  62,  42,  52,  48],\n",
       "       [  1,   1,   1,   1,   1,   1,   1,   1,   1,   1,   1]])"
      ]
     },
     "execution_count": 81,
     "metadata": {},
     "output_type": "execute_result"
    }
   ],
   "source": [
    "experiments.loc[20, 'XYZ']"
   ]
  },
  {
   "cell_type": "code",
   "execution_count": 74,
   "metadata": {
    "scrolled": false
   },
   "outputs": [
    {
     "name": "stdout",
     "output_type": "stream",
     "text": [
      "Other - computing ALE\n",
      "902624.1519668056\n",
      "902620.1520190396\n",
      "902605.2921719418\n",
      "902595.0344811445\n",
      "902564.5371098338\n",
      "902558.5627389376\n",
      "902537.8638353825\n",
      "902532.8682166762\n",
      "902519.1053065379\n",
      "902506.1132868768\n",
      "902485.7068896937\n",
      "902454.9509297047\n",
      "902440.607655626\n",
      "902426.6483238437\n",
      "902411.1895520928\n",
      "902406.7697285296\n",
      "902389.3091506221\n",
      "902346.8897086208\n",
      "902341.8977390348\n"
     ]
    }
   ],
   "source": [
    "if not isfile(cwd + 'ALE/NullDistributions/' + study + '.hdf5'):\n",
    "    print('{} - computing ALE'.format(study))\n",
    "    \n",
    "    arr_shape = [value+30 for value in template_shape]\n",
    "    \n",
    "    emptyALE = np.ones(template_shape)\n",
    "    hx = np.zeros((len(s0),len(bins)))\n",
    "    for c, i in enumerate(s0):\n",
    "        data = np.zeros(arr_shape)\n",
    "        for ii in range(experiments.at[i, 'Peaks']):\n",
    "            coords = experiments.XYZ[i].T[:,:3][ii]\n",
    "            x_range = (coords[0],coords[0]+31)\n",
    "            y_range = (coords[1],coords[1]+31)\n",
    "            z_range = (coords[2],coords[2]+31)\n",
    "            data[x_range[0]:x_range[1], y_range[0]:y_range[1], z_range[0]:z_range[1]] = \\\n",
    "            np.maximum(data[x_range[0]:x_range[1], y_range[0]:y_range[1], z_range[0]:z_range[1]],\n",
    "                       experiments.at[i, 'Kernel'])\n",
    "        data = data[15:data.shape[0]-15,15:data.shape[1]-15, 15:data.shape[2]-15]\n",
    "        bin_idxs, counts = np.unique(np.digitize(data[prior], bins),return_counts=True)\n",
    "        hx[c,bin_idxs] = counts\n",
    "        emptyALE = np.multiply(emptyALE, 1-data)\n",
    "        print(np.sum(emptyALE))\n",
    "\n",
    "    emptyALE = 1-emptyALE\n",
    "    emptyALE[~prior] = np.nan"
   ]
  },
  {
   "cell_type": "code",
   "execution_count": null,
   "metadata": {},
   "outputs": [],
   "source": [
    "experiments.XYZmm[0]"
   ]
  }
 ],
 "metadata": {
  "kernelspec": {
   "display_name": "Python 3",
   "language": "python",
   "name": "python3"
  },
  "language_info": {
   "codemirror_mode": {
    "name": "ipython",
    "version": 3
   },
   "file_extension": ".py",
   "mimetype": "text/x-python",
   "name": "python",
   "nbconvert_exporter": "python",
   "pygments_lexer": "ipython3",
   "version": "3.9.1"
  }
 },
 "nbformat": 4,
 "nbformat_minor": 4
}
