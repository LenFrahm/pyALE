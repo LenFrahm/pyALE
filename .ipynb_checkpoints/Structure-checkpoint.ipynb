{
 "cells": [
  {
   "cell_type": "markdown",
   "metadata": {},
   "source": [
    "## Script1_ReadExcelFile.m\n",
    "1. Select Spreadsheet with study information\n",
    "2. Load in an compile information to MatlabData file that contains two datastructures\n",
    "\n",
    "* Experiments: \n",
    "                - Author (e.g. Critchley et al., 2005)\n",
    "                - Subjects (Number of subjects, e.g. 15)\n",
    "                - Space (MNI and TAL, if empty => MNI)\n",
    "                - Cond (All additional information supplied in columns 6+ in the Excel sheet)\n",
    "                - XYZmm (Coordinates in stereotaxic space, if space==TAL => conversion to MNI)\n",
    "                - UncertainTemplates (EDtemp)\n",
    "                - UncertainSubjects (EDtemp)\n",
    "                - Smoothing (FWHM Effective; used to model spatial uncertainty in peak coordinates)\n",
    "                - XYZ (variables in MNI voxel space; based on grey10.nii)\n",
    "                - Kernel (Smoothing kernel based on Smoothing)\n",
    "                - Peaks (Amount of Coordinates presented as centers of activation in any given experiment)\n",
    "\n",
    "\n",
    "* Task:\n",
    "                - Name (Name of condition/task; e.g. \"colorword\", \"auditory\", \"fMRI\", etc.)\n",
    "                - Experiments (Indices of experiments that contain the condition/task specified by Name)\n",
    "                - Available (Number of experiments that contain the condition/task specified by Name)\n",
    "                - Wer (Authors responsible for experiments that contain the condition/task specified by Name)\n",
    "                - WieViele (Total number of subjects; summing all individual studies)\n",
    "                \n",
    "                \n",
    "### Comments\n",
    "\n",
    "2. unnecessary 'first' because it's the default (line 77)\n",
    "\n",
    "3. why should there be cases which have subjects == 0? (line 81 - 86)\n",
    "\n",
    "4. Why do we add a 3x10 nan array to our XYZ array? line(96)\n",
    "    - assumption: otherwise my_tal2icbm_spm.m does not work properly with small amount of coordinates\n",
    "        \n",
    "5. EDsub is assumed to be 11.6mm, EDtemp is assumed to be 5.7; this follows the calculation in Eickhoff et al. 2009, but doesn't this need to be calculated for each ALE seperately depending on the datasets and subjects used?\n",
    "\n",
    "6. cntExp = cntExp+1 unncessary (line 115), because cntExp is the variable being looped over?\n",
    "\n",
    "7. Kernel; what is the deal with 31? arbitrary?\n",
    "\n",
    "8. Tasks (try loop line 131-166):\n",
    "    - weirdly coded; can maybe use \"contains\" function?\n",
    "    - counter unnecessary?\n",
    "    \n",
    "9. Only selecting tasks where availability is >0; does not make sense because tasks are selected based on input excel (line 173)\n",
    "\n",
    "10. Found while translating to Python: Why does the script divide Coderre et. al. in 3 Experiments\n",
    "\n",
    "11. Affine when loaded in via Nibabel is different than the one loaded into Matlab; leads to slightly different transformations\n",
    "\n",
    "12. tal2icbm; can we be sure that every study uses spm for normalization? otherwise the transformation is errenous."
   ]
  },
  {
   "cell_type": "markdown",
   "metadata": {},
   "source": [
    "## se_compileStudies.m\n",
    "\n",
    "### Comments"
   ]
  },
  {
   "cell_type": "markdown",
   "metadata": {},
   "source": [
    "## Scripts_AnalysisFromSpreadsheet.m\n",
    "\n",
    "1. Load in spreadsheet with information about analysis to perform\n",
    "2. Iterate through lines of spreadsheet\n",
    "    - check first column for type of analysis:\n",
    "        * Main effect:\n",
    "            - se_readDatafile\n",
    "            - se_compileStudies\n",
    "            - check if number of experiments > 12\n",
    "            - se_computeALEtfce\n",
    "            - se_Contribution\n",
    "            \n",
    "   "
   ]
  },
  {
   "cell_type": "markdown",
   "metadata": {},
   "source": [
    "### Comments\n",
    "\n",
    "1. In every scenario (\"M\", \"C\", \"P\", \"R\") datafile gets read and compiled inside the if statement even though nothing changes\n",
    "\n",
    "2. When reproducing the computation of ALE scores in python, the results are slightly different to the ones in matlab."
   ]
  },
  {
   "cell_type": "code",
   "execution_count": null,
   "metadata": {},
   "outputs": [],
   "source": []
  }
 ],
 "metadata": {
  "kernelspec": {
   "display_name": "Python 3",
   "language": "python",
   "name": "python3"
  },
  "language_info": {
   "codemirror_mode": {
    "name": "ipython",
    "version": 3
   },
   "file_extension": ".py",
   "mimetype": "text/x-python",
   "name": "python",
   "nbconvert_exporter": "python",
   "pygments_lexer": "ipython3",
   "version": "3.9.1"
  }
 },
 "nbformat": 4,
 "nbformat_minor": 4
}
