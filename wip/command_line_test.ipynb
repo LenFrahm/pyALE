{
 "cells": [
  {
   "cell_type": "code",
   "execution_count": 45,
   "id": "turned-google",
   "metadata": {},
   "outputs": [],
   "source": [
    "import argparse\n",
    "import os\n",
    "from os.path import isfile, isdir\n",
    "from tkinter import filedialog\n",
    "import pandas as pd\n",
    "import numpy as np\n",
    "import pickle\n",
    "from main_effect import main_effect\n",
    "from contrast import contrast\n",
    "from legacy_contrast import legacy_contrast\n",
    "from compile_studies import compile_studies\n",
    "from contribution import contribution\n",
    "from folder_setup import folder_setup\n",
    "from roi import check_rois\n",
    "from read_exp_info import read_exp_info\n",
    "\n",
    "parser = argparse.ArgumentParser(description='Initates ALE Meta-Analysis.')\n",
    "parser.add_argument('--type', metavar='t', type=str, required=True, help='Type of Analysis; check instructions file for possible types')\n",
    "parser.add_argument('--name', metavar='n', type=str, required=True, help='Name given to analysis; used for provenance tracking')\n",
    "parser.add_argument('--file', metavar='f', type=str, required=True, help='File that stores study information (coordinates, etc.)')\n",
    "parser.add_argument('cats', metavar='c', type=str, nargs='+', default=\"All\", help='Categories of experiments to include in analysis; check instructions file for syntax')\n",
    "\n",
    "args = parser.parse_args(['--t', 'B15', '--n', \"peter\", '--f', 'file', 'cats', 'lol'])\n",
    "\n",
    "type_ = args.type\n",
    "name = args.name\n",
    "file = args.file\n",
    "cats = args.cats\n",
    "\n",
    "if type_ == \"C\" or type_[0] == \"B\":\n",
    "    print(\"To perform a contrast we need a second Analysis\")\n",
    "    name2 = input(\"Enter name:\")\n",
    "    file2 = input(\"Enter file:\")\n",
    "    cats2 = input(\"Enter categories:\").split()  "
   ]
  }
 ],
 "metadata": {
  "kernelspec": {
   "display_name": "Python 3",
   "language": "python",
   "name": "python3"
  },
  "language_info": {
   "codemirror_mode": {
    "name": "ipython",
    "version": 3
   },
   "file_extension": ".py",
   "mimetype": "text/x-python",
   "name": "python",
   "nbconvert_exporter": "python",
   "pygments_lexer": "ipython3",
   "version": "3.9.1"
  }
 },
 "nbformat": 4,
 "nbformat_minor": 5
}
